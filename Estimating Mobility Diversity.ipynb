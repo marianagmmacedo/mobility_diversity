{
 "cells": [
  {
   "cell_type": "markdown",
   "metadata": {},
   "source": [
    "# Foreword\n",
    "\n",
    "This Notebook allows to compute the mobility diversity, $H_X$, of travels made by travellers belonging to group $X \\in \\left\\{ \\text{men}, \\text{women}, \\text{all} \\right\\}$.\n",
    "\n",
    "As in our study we used data from different sources (_i.e._, with a very heterogeneous formatting), we will consider a \"_fake dataset_\" containing exclusively the information relevant to compute the mobility diversity, $H$.\n",
    "\n",
    "\n",
    "## Loading modules and setting figure appearance"
   ]
  },
  {
   "cell_type": "code",
   "execution_count": 1,
   "metadata": {},
   "outputs": [
    {
     "name": "stdout",
     "output_type": "stream",
     "text": [
      "MODULES LOADED!\n"
     ]
    }
   ],
   "source": [
    "import pandas as pd\n",
    "import numpy as np\n",
    "import math\n",
    "import sys\n",
    "import seaborn as sns\n",
    "import os.path\n",
    "import random\n",
    "\n",
    "import matplotlib.pyplot as plt\n",
    "from matplotlib.ticker import AutoMinorLocator\n",
    "from mpl_toolkits.axes_grid1 import make_axes_locatable\n",
    "from itertools import combinations\n",
    "from matplotlib import rcParams\n",
    "\n",
    "\n",
    "\n",
    "rcParams['mathtext.fontset'] = 'custom'\n",
    "rcParams['figure.figsize'] = (8,5)\n",
    "rcParams['mathtext.it'] = 'Arial:italic'\n",
    "rcParams['mathtext.rm'] = 'Arial'\n",
    "\n",
    "\n",
    "# setting custom color palette to display data corresponding to gender-based groups\n",
    "colors ={\n",
    "    \"all\":\"grey\",\n",
    "    \"men\":\"#009E73\",\n",
    "    \"women\": \"#E69F00\"   \n",
    "}\n",
    "\n",
    "print('MODULES LOADED!')"
   ]
  },
  {
   "cell_type": "markdown",
   "metadata": {},
   "source": [
    "## Loading the functions used to compute the mobility diversity"
   ]
  },
  {
   "cell_type": "code",
   "execution_count": 3,
   "metadata": {},
   "outputs": [
    {
     "name": "stdout",
     "output_type": "stream",
     "text": [
      "The autoreload extension is already loaded. To reload it, use:\n",
      "  %reload_ext autoreload\n"
     ]
    }
   ],
   "source": [
    "%load_ext autoreload\n",
    "%autoreload 2\n",
    "\n",
    "from MobilityDiversityFunctions import MobilityDiversityFunctions\n",
    "mob = MobilityDiversityFunctions()"
   ]
  },
  {
   "cell_type": "markdown",
   "metadata": {},
   "source": [
    "## Defining a vector of destinations' IDs\n",
    "\n",
    "We define here a variable containing **all the IDs** of the possible (available) destination zones in a given city. For instance, suppose to consider a city $A$ divided into 10 zones whose IDs span from $0$ to $9$. We define and initialise the vector of the zones' IDs as:"
   ]
  },
  {
   "cell_type": "code",
   "execution_count": 4,
   "metadata": {},
   "outputs": [],
   "source": [
    "all_options = range(10)"
   ]
  },
  {
   "cell_type": "markdown",
   "metadata": {},
   "source": [
    "## Generating the input data\n",
    "\n",
    "\n",
    "We create a Pandas dataframe having the following columns:\n",
    "\n",
    "* **Column 1**: the ID of the travel (int variable).\n",
    "* **Column 2**: the expansion factor of the travel (int variable in the range $[0,100]$).\n",
    "* **Column 3**: the ID of the destination zone of the travel (int variable in the range $[0,9]$).\n",
    "* **Column 4**: the type of traveller (_i.e._, the group) performing such a travel (_e.g._, 'men').\n",
    "\n",
    "**NOTE:** We are not including the ID of the travel's origin zone because we are computing the mobility diversity of the destinations only."
   ]
  },
  {
   "cell_type": "code",
   "execution_count": 5,
   "metadata": {},
   "outputs": [
    {
     "data": {
      "text/html": [
       "<div>\n",
       "<style scoped>\n",
       "    .dataframe tbody tr th:only-of-type {\n",
       "        vertical-align: middle;\n",
       "    }\n",
       "\n",
       "    .dataframe tbody tr th {\n",
       "        vertical-align: top;\n",
       "    }\n",
       "\n",
       "    .dataframe thead th {\n",
       "        text-align: right;\n",
       "    }\n",
       "</style>\n",
       "<table border=\"1\" class=\"dataframe\">\n",
       "  <thead>\n",
       "    <tr style=\"text-align: right;\">\n",
       "      <th></th>\n",
       "      <th>id</th>\n",
       "      <th>expansion_factor</th>\n",
       "      <th>locations</th>\n",
       "      <th>gender</th>\n",
       "    </tr>\n",
       "  </thead>\n",
       "  <tbody>\n",
       "    <tr>\n",
       "      <th>0</th>\n",
       "      <td>0</td>\n",
       "      <td>30</td>\n",
       "      <td>9</td>\n",
       "      <td>women</td>\n",
       "    </tr>\n",
       "    <tr>\n",
       "      <th>1</th>\n",
       "      <td>1</td>\n",
       "      <td>85</td>\n",
       "      <td>5</td>\n",
       "      <td>men</td>\n",
       "    </tr>\n",
       "    <tr>\n",
       "      <th>2</th>\n",
       "      <td>2</td>\n",
       "      <td>77</td>\n",
       "      <td>2</td>\n",
       "      <td>women</td>\n",
       "    </tr>\n",
       "    <tr>\n",
       "      <th>3</th>\n",
       "      <td>3</td>\n",
       "      <td>81</td>\n",
       "      <td>3</td>\n",
       "      <td>women</td>\n",
       "    </tr>\n",
       "    <tr>\n",
       "      <th>4</th>\n",
       "      <td>4</td>\n",
       "      <td>97</td>\n",
       "      <td>5</td>\n",
       "      <td>women</td>\n",
       "    </tr>\n",
       "  </tbody>\n",
       "</table>\n",
       "</div>"
      ],
      "text/plain": [
       "   id  expansion_factor  locations gender\n",
       "0   0                30          9  women\n",
       "1   1                85          5    men\n",
       "2   2                77          2  women\n",
       "3   3                81          3  women\n",
       "4   4                97          5  women"
      ]
     },
     "execution_count": 5,
     "metadata": {},
     "output_type": "execute_result"
    }
   ],
   "source": [
    "fake_data = pd.DataFrame([ [i, random.choice(range(1,100)), \\\n",
    "                            random.choice(range(1,10)), \\\n",
    "                            random.choice(['men','women'])]   for i in range(100)])\n",
    "fake_data.columns = ['id','expansion_factor','locations','gender']\n",
    "fake_data.head()"
   ]
  },
  {
   "cell_type": "markdown",
   "metadata": {},
   "source": [
    "## Computing the mobility diversity\n",
    "\n",
    "We compute now the mobility diversity of **all** the travellers regardless of their gender first, and of **men** and **women** only, then.\n",
    "\n",
    "**NOTE:** Check the docstring of the function named \"_calculate_mobility_diversity_fast_shuffling_int_expansion_factor_\" available in the file \"_MobilityDiversityFunctions.py_\" for the details."
   ]
  },
  {
   "cell_type": "code",
   "execution_count": 6,
   "metadata": {},
   "outputs": [
    {
     "name": "stdout",
     "output_type": "stream",
     "text": [
      "Computing the mobility diversity ...\n",
      "End of calculations!\n"
     ]
    }
   ],
   "source": [
    "# initializing the data structure\n",
    "\n",
    "mobility_diversity_values = {}\n",
    "\n",
    "\n",
    "print('Computing the mobility diversity ...')\n",
    "\n",
    "# Computing the mobility diversity of overall data\n",
    "mobility_diversity_values[\"all\"] = mob.calculate_mobility_diversity_fast_shuffling_int_expansion_factor(all_options, \n",
    "                                             data_group=fake_data,\n",
    "                                             expansion_column='expansion_factor',\n",
    "                                             destination_column='locations',\n",
    "                                             percentage_sample=0.8, \n",
    "                                             simulations=30)\n",
    "\n",
    "\n",
    "# Computing the mobility diversity for men and women travellers\n",
    "for gender in ['men', 'women']:\n",
    "    # Compute the mobility diversity of each group\n",
    "    mobility_diversity_values[gender] = mob.calculate_mobility_diversity_fast_shuffling_int_expansion_factor(\n",
    "                            all_options=all_options, \n",
    "                            data_group=fake_data[fake_data['gender']==gender],\n",
    "                            expansion_column='expansion_factor',\n",
    "                            destination_column='locations',\n",
    "                            percentage_sample=0.8, \n",
    "                            simulations=30)\n",
    "    \n",
    "print('End of calculations!')"
   ]
  },
  {
   "cell_type": "markdown",
   "metadata": {},
   "source": [
    "## Plotting the results\n",
    "\n",
    "Here we generate the plot of the Kernel Density Estimators ($KDE$) of the mobility diversity, $H$, of each group of travellers (all, men, and women).\n",
    "\n",
    "To this aim, we will use the function _kdeplot_ available through the _seaborn_ module."
   ]
  },
  {
   "cell_type": "code",
   "execution_count": 9,
   "metadata": {},
   "outputs": [
    {
     "data": {
      "image/png": "[encoded data removed]",
      "text/plain": [
       "<Figure size 576x360 with 1 Axes>"
      ]
     },
     "metadata": {
      "needs_background": "light"
     },
     "output_type": "display_data"
    }
   ],
   "source": [
    "# plotting the data\n",
    "for gender in ['all', 'men', 'women']:\n",
    "    sns.kdeplot(mobility_diversity_values[gender], shade=True,\\\n",
    "                color=colors[gender], label=gender)\n",
    "    \n",
    "# customizing the plot appearance\n",
    "plt.legend(fontsize=14, loc='upper left')\n",
    "plt.xlabel(r\"Mobility Diversity ($H$)\", fontsize=14)\n",
    "plt.ylabel(r\"$KDE$($H$)\", fontsize=14)\n",
    "plt.show()"
   ]
  },
  {
   "cell_type": "code",
   "execution_count": null,
   "metadata": {},
   "outputs": [],
   "source": []
  }
 ],
 "metadata": {
  "kernelspec": {
   "display_name": "Python 3",
   "language": "python",
   "name": "python3"
  },
  "language_info": {
   "codemirror_mode": {
    "name": "ipython",
    "version": 3
   },
   "file_extension": ".py",
   "mimetype": "text/x-python",
   "name": "python",
   "nbconvert_exporter": "python",
   "pygments_lexer": "ipython3",
   "version": "3.6.10"
  }
 },
 "nbformat": 4,
 "nbformat_minor": 4
}
