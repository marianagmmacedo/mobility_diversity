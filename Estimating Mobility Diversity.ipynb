{
 "cells": [
  {
   "cell_type": "code",
   "execution_count": 258,
   "metadata": {},
   "outputs": [],
   "source": [
    "import pandas as pd\n",
    "import numpy as np\n",
    "import math\n",
    "import sys\n",
    "import seaborn as sns\n",
    "import os.path\n",
    "import random\n",
    "from matplotlib.ticker import AutoMinorLocator\n",
    "from mpl_toolkits.axes_grid1 import make_axes_locatable\n",
    "from itertools import combinations\n",
    "from matplotlib import rcParams\n",
    "import matplotlib.pyplot as plt\n",
    "rcParams['mathtext.fontset'] = 'custom'\n",
    "rcParams['figure.figsize'] = (8,5)\n",
    "rcParams['mathtext.it'] = 'Arial:italic'\n",
    "rcParams['mathtext.rm'] = 'Arial'"
   ]
  },
  {
   "cell_type": "code",
   "execution_count": 259,
   "metadata": {},
   "outputs": [],
   "source": [
    "colors ={\n",
    "    \"all\":\"grey\",\n",
    "    \"men\":\"#009E73\",\n",
    "    \"women\": \"#E69F00\"   \n",
    "}"
   ]
  },
  {
   "cell_type": "code",
   "execution_count": 260,
   "metadata": {},
   "outputs": [
    {
     "name": "stdout",
     "output_type": "stream",
     "text": [
      "The autoreload extension is already loaded. To reload it, use:\n",
      "  %reload_ext autoreload\n"
     ]
    }
   ],
   "source": [
    "%load_ext autoreload\n",
    "%autoreload 2\n",
    "from MobilityDiversityFunctions import MobilityDiversityFunctions\n",
    "mob = MobilityDiversityFunctions()"
   ]
  },
  {
   "cell_type": "code",
   "execution_count": 261,
   "metadata": {},
   "outputs": [],
   "source": [
    "# You will need a vector of all the options that you have for destinations \n",
    "# For instance, a city A have the 10 zones that their codes go from 0 to 9\n",
    "# So an individual can choose any of these 10 zones to go\n",
    "all_options = range(10)"
   ]
  },
  {
   "cell_type": "code",
   "execution_count": 262,
   "metadata": {},
   "outputs": [
    {
     "data": {
      "text/html": [
       "<div>\n",
       "<style scoped>\n",
       "    .dataframe tbody tr th:only-of-type {\n",
       "        vertical-align: middle;\n",
       "    }\n",
       "\n",
       "    .dataframe tbody tr th {\n",
       "        vertical-align: top;\n",
       "    }\n",
       "\n",
       "    .dataframe thead th {\n",
       "        text-align: right;\n",
       "    }\n",
       "</style>\n",
       "<table border=\"1\" class=\"dataframe\">\n",
       "  <thead>\n",
       "    <tr style=\"text-align: right;\">\n",
       "      <th></th>\n",
       "      <th>id</th>\n",
       "      <th>expansion_factor</th>\n",
       "      <th>locations</th>\n",
       "      <th>gender</th>\n",
       "    </tr>\n",
       "  </thead>\n",
       "  <tbody>\n",
       "    <tr>\n",
       "      <th>0</th>\n",
       "      <td>0</td>\n",
       "      <td>48</td>\n",
       "      <td>8</td>\n",
       "      <td>men</td>\n",
       "    </tr>\n",
       "    <tr>\n",
       "      <th>1</th>\n",
       "      <td>1</td>\n",
       "      <td>52</td>\n",
       "      <td>7</td>\n",
       "      <td>men</td>\n",
       "    </tr>\n",
       "    <tr>\n",
       "      <th>2</th>\n",
       "      <td>2</td>\n",
       "      <td>40</td>\n",
       "      <td>2</td>\n",
       "      <td>women</td>\n",
       "    </tr>\n",
       "    <tr>\n",
       "      <th>3</th>\n",
       "      <td>3</td>\n",
       "      <td>77</td>\n",
       "      <td>8</td>\n",
       "      <td>women</td>\n",
       "    </tr>\n",
       "    <tr>\n",
       "      <th>4</th>\n",
       "      <td>4</td>\n",
       "      <td>3</td>\n",
       "      <td>1</td>\n",
       "      <td>men</td>\n",
       "    </tr>\n",
       "  </tbody>\n",
       "</table>\n",
       "</div>"
      ],
      "text/plain": [
       "   id  expansion_factor  locations gender\n",
       "0   0                48          8    men\n",
       "1   1                52          7    men\n",
       "2   2                40          2  women\n",
       "3   3                77          8  women\n",
       "4   4                 3          1    men"
      ]
     },
     "execution_count": 262,
     "metadata": {},
     "output_type": "execute_result"
    }
   ],
   "source": [
    "# You will need to have a dataframe that have the following three columns\n",
    "# Column 1: the id of the travel\n",
    "# Column 2: the expansion factor of the travel\n",
    "# Column 3: the destination of the travel \n",
    "# Column 4: the type of group that you are analysing\n",
    "fake_data = pd.DataFrame([ [i, random.choice(range(1,100)), \\\n",
    "                            random.choice(range(1,10)), \\\n",
    "                            random.choice(['men','women'])]   for i in range(100)])\n",
    "fake_data.columns = ['id','expansion_factor','locations','gender']\n",
    "fake_data.head()"
   ]
  },
  {
   "cell_type": "code",
   "execution_count": 263,
   "metadata": {},
   "outputs": [],
   "source": [
    "mobility_diversity_values = {}"
   ]
  },
  {
   "cell_type": "code",
   "execution_count": 264,
   "metadata": {},
   "outputs": [],
   "source": [
    "# Compute the mobility diversity of overall data\n",
    "mobility_diversity_values[\"all\"] = mob.calculate_mobility_diversity_fast_shuffling_int_expansion_factor(all_options, \n",
    "                                             data_group=fake_data,\n",
    "                                             expansion_column='expansion_factor',\n",
    "                                             destination_column='locations',\n",
    "                                             percentage_sample=0.8, \n",
    "                                             simulations=30)"
   ]
  },
  {
   "cell_type": "code",
   "execution_count": 265,
   "metadata": {},
   "outputs": [],
   "source": [
    "for gender in ['men', 'women']:\n",
    "    # Compute the mobility diversity of each group\n",
    "    mobility_diversity_values[gender] = mob.calculate_mobility_diversity_fast_shuffling_int_expansion_factor(\n",
    "                            all_options=all_options, \n",
    "                            data_group=fake_data[fake_data['gender']==gender],\n",
    "                            expansion_column='expansion_factor',\n",
    "                            destination_column='locations',\n",
    "                            percentage_sample=0.8, \n",
    "                            simulations=30)"
   ]
  },
  {
   "cell_type": "code",
   "execution_count": 266,
   "metadata": {},
   "outputs": [
    {
     "data": {
      "image/png": "[encoded data removed]",
      "text/plain": [
       "<Figure size 576x360 with 1 Axes>"
      ]
     },
     "metadata": {
      "needs_background": "light"
     },
     "output_type": "display_data"
    }
   ],
   "source": [
    "for gender in ['all', 'men', 'women']:\n",
    "    sns.kdeplot(mobility_diversity_values[gender], shade=True, color=colors[gender], label=gender)\n",
    "    plt.legend(fontsize=14, loc='upper left')\n",
    "    plt.xlabel(\"Mobility Diversity ($H$)\", fontsize=14)\n",
    "    plt.ylabel(\"$KDE$($H$)\", fontsize=14)"
   ]
  },
  {
   "cell_type": "code",
   "execution_count": null,
   "metadata": {},
   "outputs": [],
   "source": []
  },
  {
   "cell_type": "code",
   "execution_count": null,
   "metadata": {},
   "outputs": [],
   "source": []
  }
 ],
 "metadata": {
  "kernelspec": {
   "display_name": "Python 3",
   "language": "python",
   "name": "python3"
  },
  "language_info": {
   "codemirror_mode": {
    "name": "ipython",
    "version": 3
   },
   "file_extension": ".py",
   "mimetype": "text/x-python",
   "name": "python",
   "nbconvert_exporter": "python",
   "pygments_lexer": "ipython3",
   "version": "3.6.10"
  }
 },
 "nbformat": 4,
 "nbformat_minor": 4
}
